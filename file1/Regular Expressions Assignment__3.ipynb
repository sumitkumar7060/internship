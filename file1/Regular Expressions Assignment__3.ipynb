{
 "cells": [
  {
   "cell_type": "code",
   "execution_count": 1,
   "id": "05a8a411-15c7-4748-85c7-60261021c42c",
   "metadata": {},
   "outputs": [],
   "source": [
    "import re\n",
    "import pandas as pd"
   ]
  },
  {
   "cell_type": "code",
   "execution_count": 10,
   "id": "e74c805c-18e6-4e38-971f-12c26ab2907b",
   "metadata": {},
   "outputs": [
    {
     "name": "stdout",
     "output_type": "stream",
     "text": [
      "Python:Exercises::PHP:exercises:\n"
     ]
    }
   ],
   "source": [
    "# Q1.- Write a Python program to replace all occurrences of a space, comma, or dot with a colon.\n",
    "str1='Python Exercises, PHP exercises.'\n",
    "logic=r'[\\s,.]'\n",
    "print(re.sub(logic,':',str1))"
   ]
  },
  {
   "cell_type": "code",
   "execution_count": 33,
   "id": "b045ea46-0d4c-4f14-a219-ce9a0e4dedf0",
   "metadata": {},
   "outputs": [
    {
     "name": "stdout",
     "output_type": "stream",
     "text": [
      "         SUMMARY\n",
      "0    hello world\n",
      "1           test\n",
      "2  four five six\n"
     ]
    }
   ],
   "source": [
    "# Q2- Create a dataframe using the dictionary below and remove everything (commas (,), !, XXXX, ;, etc.) from the columns except words.\n",
    "dict1 = {'SUMMARY': ['hello, world!', 'XXXXX test', '123four, five:; six...']}\n",
    "df = pd.DataFrame(dict1)\n",
    "\n",
    "logic2 = r'[,.\\d!;:XXXX]'\n",
    "df['SUMMARY'] = df['SUMMARY'].apply(lambda x: re.sub(logic2, '', x))\n",
    "\n",
    "print(df)"
   ]
  },
  {
   "cell_type": "code",
   "execution_count": 35,
   "id": "7983e4d8-2327-438a-925a-2d6f18d18252",
   "metadata": {},
   "outputs": [
    {
     "name": "stdout",
     "output_type": "stream",
     "text": [
      "['name', 'data']\n"
     ]
    }
   ],
   "source": [
    "# Q3-Create a function in python to find all words that are at least 4 characters long in a string. The use of the re.compile() method is mandatory.\n",
    "def find_4(text):\n",
    "    # logic3= re.compile(r'\\w{4}')\n",
    "    logic3 = re.compile(r'\\b\\w{4}\\b')\n",
    "    result=logic3.findall(text)\n",
    "    return result\n",
    "target_str='hello my name is sumit kumar. i am pursuing PG programme in data science and machine learning.i am working as a python developer at Arctutrus business solution private ltd.'\n",
    "print(find_4(target_str))\n",
    "    "
   ]
  },
  {
   "cell_type": "code",
   "execution_count": 36,
   "id": "c0501c64-20c7-44df-82b9-88d1ca3f593f",
   "metadata": {},
   "outputs": [
    {
     "name": "stdout",
     "output_type": "stream",
     "text": [
      "['hello', 'name', 'sumit', 'kumar', 'data', 'and', 'ltd']\n"
     ]
    }
   ],
   "source": [
    "# Q4-Create a function in python to find all three, four, and five character words in a string. The use of the re.compile() method is mandatory.\n",
    "def find_3(text):    \n",
    "    logic4 = re.compile(r'\\b\\w{3,5}\\b')\n",
    "    result=logic4.findall(text)\n",
    "    return result\n",
    "target_str='hello my name is sumit kumar. i am pursuing PG programme in data science and machine learning.i am working as a python developer at Arctutrus business solution private ltd.'\n",
    "print(find_3(target_str))"
   ]
  },
  {
   "cell_type": "code",
   "execution_count": 49,
   "id": "ccbfe471-0003-45fa-8efc-6bc8e370e959",
   "metadata": {},
   "outputs": [
    {
     "name": "stdout",
     "output_type": "stream",
     "text": [
      "example .com\n",
      "hr@fliprobo .com\n",
      "github .com\n",
      "Hello Data Science World\n",
      "Data Scientist\n"
     ]
    }
   ],
   "source": [
    "# Q5- Create a function in Python to remove the parenthesis in a list of strings. The use of the re.compile() method is mandatory.\n",
    "def remove_paren(text):\n",
    "    logic5=re.compile(r'[()]')\n",
    "    for i in text:\n",
    "        result=logic5.sub('',i)\n",
    "        print(result)\n",
    "sample=[\"example (.com)\", \"hr@fliprobo (.com)\", \"github (.com)\", \"Hello (Data Science World)\", \"Data (Scientist)\"]\n",
    "remove_paren(sample)\n"
   ]
  },
  {
   "cell_type": "code",
   "execution_count": 61,
   "id": "55ea8ca0-bce1-4d06-83bc-78730632c352",
   "metadata": {},
   "outputs": [
    {
     "name": "stdout",
     "output_type": "stream",
     "text": [
      "[\"example \", \"hr@fliprobo \", \"github \", \"Hello \", \"Data \"]\n"
     ]
    }
   ],
   "source": [
    "# Q6-Write a python program to remove the parenthesis area from the text stored in the text file using Regular Expression.\n",
    "with open('regular.txt') as file:\n",
    "    text = file.read()\n",
    "    logic6 = r'\\([^)]+\\)'\n",
    "    print(re.sub(logic6,'',text))\n",
    "    "
   ]
  },
  {
   "cell_type": "code",
   "execution_count": 78,
   "id": "c2756c18-0926-452c-a4f5-c465324dde13",
   "metadata": {},
   "outputs": [
    {
     "name": "stdout",
     "output_type": "stream",
     "text": [
      "['Importance', 'Of', 'Regular', 'Expressions', 'In', 'Python']\n"
     ]
    }
   ],
   "source": [
    "# Q7-Write a regular expression in Python to split a string into uppercase letters.\n",
    "sam_text='ImportanceOfRegularExpressionsInPython'\n",
    "# logic7=r'(?=[A-Z])'\n",
    "logic7=r'[A-Z][a-z]*'\n",
    "print(re.findall(logic7,sam_text))\n",
    "# print(re.split(logic7,sam_text))\n"
   ]
  },
  {
   "cell_type": "code",
   "execution_count": 20,
   "id": "5d4256a8-ef50-4114-92c6-6a45d5354737",
   "metadata": {},
   "outputs": [
    {
     "name": "stdout",
     "output_type": "stream",
     "text": [
      "RegularExpression 1IsAn 2ImportantTopic 3InPython\n"
     ]
    }
   ],
   "source": [
    "# Q8-Create a function in python to insert spaces between words starting with numbers.\n",
    "def insert_space(text):\n",
    "    logic8=r'(?=\\d)'\n",
    "    result=re.sub(logic8,' ',text)\n",
    "    return result\n",
    "sam_text2='RegularExpression1IsAn2ImportantTopic3InPython'\n",
    "print(insert_space(sam_text2))"
   ]
  },
  {
   "cell_type": "code",
   "execution_count": 30,
   "id": "26c43505-81fe-40f9-a7b7-b98541efc397",
   "metadata": {},
   "outputs": [
    {
     "name": "stdout",
     "output_type": "stream",
     "text": [
      "RegularExpression 1 IsAn 2 ImportantTopic 3 InPython\n"
     ]
    }
   ],
   "source": [
    "# Q9-Create a function in python to insert spaces between words starting with capital letters or with numbers.\n",
    "def insert_space(text):\n",
    "    # logic9=r'(?<=\\D)(?=\\d)|(?<=\\d)(?=\\D)'\n",
    "    logic9=r'(?=[A-Z0-9])'\n",
    "    result=re.sub(logic9,' ',text)\n",
    "    return result\n",
    "sam_text3='RegularExpression1IsAn2ImportantTopic3InPython'\n",
    "print(insert_space(sam_text3))"
   ]
  },
  {
   "cell_type": "code",
   "execution_count": 47,
   "id": "35acfd06-e283-47b5-8cfa-101016bff13d",
   "metadata": {},
   "outputs": [
    {
     "data": {
      "text/html": [
       "<div>\n",
       "<style scoped>\n",
       "    .dataframe tbody tr th:only-of-type {\n",
       "        vertical-align: middle;\n",
       "    }\n",
       "\n",
       "    .dataframe tbody tr th {\n",
       "        vertical-align: top;\n",
       "    }\n",
       "\n",
       "    .dataframe thead th {\n",
       "        text-align: right;\n",
       "    }\n",
       "</style>\n",
       "<table border=\"1\" class=\"dataframe\">\n",
       "  <thead>\n",
       "    <tr style=\"text-align: right;\">\n",
       "      <th></th>\n",
       "      <th>Country</th>\n",
       "      <th>Region</th>\n",
       "      <th>Happiness Rank</th>\n",
       "      <th>Happiness Score</th>\n",
       "      <th>Standard Error</th>\n",
       "      <th>Economy (GDP per Capita)</th>\n",
       "      <th>Family</th>\n",
       "      <th>Health (Life Expectancy)</th>\n",
       "      <th>Freedom</th>\n",
       "      <th>Trust (Government Corruption)</th>\n",
       "      <th>Generosity</th>\n",
       "      <th>Dystopia Residual</th>\n",
       "      <th>first_five_letters</th>\n",
       "    </tr>\n",
       "  </thead>\n",
       "  <tbody>\n",
       "    <tr>\n",
       "      <th>0</th>\n",
       "      <td>Switzerland</td>\n",
       "      <td>Western Europe</td>\n",
       "      <td>1</td>\n",
       "      <td>7.587</td>\n",
       "      <td>0.03411</td>\n",
       "      <td>1.39651</td>\n",
       "      <td>1.34951</td>\n",
       "      <td>0.94143</td>\n",
       "      <td>0.66557</td>\n",
       "      <td>0.41978</td>\n",
       "      <td>0.29678</td>\n",
       "      <td>2.51738</td>\n",
       "      <td>Switze</td>\n",
       "    </tr>\n",
       "    <tr>\n",
       "      <th>1</th>\n",
       "      <td>Iceland</td>\n",
       "      <td>Western Europe</td>\n",
       "      <td>2</td>\n",
       "      <td>7.561</td>\n",
       "      <td>0.04884</td>\n",
       "      <td>1.30232</td>\n",
       "      <td>1.40223</td>\n",
       "      <td>0.94784</td>\n",
       "      <td>0.62877</td>\n",
       "      <td>0.14145</td>\n",
       "      <td>0.43630</td>\n",
       "      <td>2.70201</td>\n",
       "      <td>Icelan</td>\n",
       "    </tr>\n",
       "    <tr>\n",
       "      <th>2</th>\n",
       "      <td>Denmark</td>\n",
       "      <td>Western Europe</td>\n",
       "      <td>3</td>\n",
       "      <td>7.527</td>\n",
       "      <td>0.03328</td>\n",
       "      <td>1.32548</td>\n",
       "      <td>1.36058</td>\n",
       "      <td>0.87464</td>\n",
       "      <td>0.64938</td>\n",
       "      <td>0.48357</td>\n",
       "      <td>0.34139</td>\n",
       "      <td>2.49204</td>\n",
       "      <td>Denmar</td>\n",
       "    </tr>\n",
       "    <tr>\n",
       "      <th>3</th>\n",
       "      <td>Norway</td>\n",
       "      <td>Western Europe</td>\n",
       "      <td>4</td>\n",
       "      <td>7.522</td>\n",
       "      <td>0.03880</td>\n",
       "      <td>1.45900</td>\n",
       "      <td>1.33095</td>\n",
       "      <td>0.88521</td>\n",
       "      <td>0.66973</td>\n",
       "      <td>0.36503</td>\n",
       "      <td>0.34699</td>\n",
       "      <td>2.46531</td>\n",
       "      <td>Norway</td>\n",
       "    </tr>\n",
       "    <tr>\n",
       "      <th>4</th>\n",
       "      <td>Canada</td>\n",
       "      <td>North America</td>\n",
       "      <td>5</td>\n",
       "      <td>7.427</td>\n",
       "      <td>0.03553</td>\n",
       "      <td>1.32629</td>\n",
       "      <td>1.32261</td>\n",
       "      <td>0.90563</td>\n",
       "      <td>0.63297</td>\n",
       "      <td>0.32957</td>\n",
       "      <td>0.45811</td>\n",
       "      <td>2.45176</td>\n",
       "      <td>Canada</td>\n",
       "    </tr>\n",
       "    <tr>\n",
       "      <th>...</th>\n",
       "      <td>...</td>\n",
       "      <td>...</td>\n",
       "      <td>...</td>\n",
       "      <td>...</td>\n",
       "      <td>...</td>\n",
       "      <td>...</td>\n",
       "      <td>...</td>\n",
       "      <td>...</td>\n",
       "      <td>...</td>\n",
       "      <td>...</td>\n",
       "      <td>...</td>\n",
       "      <td>...</td>\n",
       "      <td>...</td>\n",
       "    </tr>\n",
       "    <tr>\n",
       "      <th>153</th>\n",
       "      <td>Rwanda</td>\n",
       "      <td>Sub-Saharan Africa</td>\n",
       "      <td>154</td>\n",
       "      <td>3.465</td>\n",
       "      <td>0.03464</td>\n",
       "      <td>0.22208</td>\n",
       "      <td>0.77370</td>\n",
       "      <td>0.42864</td>\n",
       "      <td>0.59201</td>\n",
       "      <td>0.55191</td>\n",
       "      <td>0.22628</td>\n",
       "      <td>0.67042</td>\n",
       "      <td>Rwanda</td>\n",
       "    </tr>\n",
       "    <tr>\n",
       "      <th>154</th>\n",
       "      <td>Benin</td>\n",
       "      <td>Sub-Saharan Africa</td>\n",
       "      <td>155</td>\n",
       "      <td>3.340</td>\n",
       "      <td>0.03656</td>\n",
       "      <td>0.28665</td>\n",
       "      <td>0.35386</td>\n",
       "      <td>0.31910</td>\n",
       "      <td>0.48450</td>\n",
       "      <td>0.08010</td>\n",
       "      <td>0.18260</td>\n",
       "      <td>1.63328</td>\n",
       "      <td>Benin</td>\n",
       "    </tr>\n",
       "    <tr>\n",
       "      <th>155</th>\n",
       "      <td>Syria</td>\n",
       "      <td>Middle East and Northern Africa</td>\n",
       "      <td>156</td>\n",
       "      <td>3.006</td>\n",
       "      <td>0.05015</td>\n",
       "      <td>0.66320</td>\n",
       "      <td>0.47489</td>\n",
       "      <td>0.72193</td>\n",
       "      <td>0.15684</td>\n",
       "      <td>0.18906</td>\n",
       "      <td>0.47179</td>\n",
       "      <td>0.32858</td>\n",
       "      <td>Syria</td>\n",
       "    </tr>\n",
       "    <tr>\n",
       "      <th>156</th>\n",
       "      <td>Burundi</td>\n",
       "      <td>Sub-Saharan Africa</td>\n",
       "      <td>157</td>\n",
       "      <td>2.905</td>\n",
       "      <td>0.08658</td>\n",
       "      <td>0.01530</td>\n",
       "      <td>0.41587</td>\n",
       "      <td>0.22396</td>\n",
       "      <td>0.11850</td>\n",
       "      <td>0.10062</td>\n",
       "      <td>0.19727</td>\n",
       "      <td>1.83302</td>\n",
       "      <td>Burund</td>\n",
       "    </tr>\n",
       "    <tr>\n",
       "      <th>157</th>\n",
       "      <td>Togo</td>\n",
       "      <td>Sub-Saharan Africa</td>\n",
       "      <td>158</td>\n",
       "      <td>2.839</td>\n",
       "      <td>0.06727</td>\n",
       "      <td>0.20868</td>\n",
       "      <td>0.13995</td>\n",
       "      <td>0.28443</td>\n",
       "      <td>0.36453</td>\n",
       "      <td>0.10731</td>\n",
       "      <td>0.16681</td>\n",
       "      <td>1.56726</td>\n",
       "      <td>Togo</td>\n",
       "    </tr>\n",
       "  </tbody>\n",
       "</table>\n",
       "<p>158 rows × 13 columns</p>\n",
       "</div>"
      ],
      "text/plain": [
       "         Country                           Region  Happiness Rank  \\\n",
       "0    Switzerland                   Western Europe               1   \n",
       "1        Iceland                   Western Europe               2   \n",
       "2        Denmark                   Western Europe               3   \n",
       "3         Norway                   Western Europe               4   \n",
       "4         Canada                    North America               5   \n",
       "..           ...                              ...             ...   \n",
       "153       Rwanda               Sub-Saharan Africa             154   \n",
       "154        Benin               Sub-Saharan Africa             155   \n",
       "155        Syria  Middle East and Northern Africa             156   \n",
       "156      Burundi               Sub-Saharan Africa             157   \n",
       "157         Togo               Sub-Saharan Africa             158   \n",
       "\n",
       "     Happiness Score  Standard Error  Economy (GDP per Capita)   Family  \\\n",
       "0              7.587         0.03411                   1.39651  1.34951   \n",
       "1              7.561         0.04884                   1.30232  1.40223   \n",
       "2              7.527         0.03328                   1.32548  1.36058   \n",
       "3              7.522         0.03880                   1.45900  1.33095   \n",
       "4              7.427         0.03553                   1.32629  1.32261   \n",
       "..               ...             ...                       ...      ...   \n",
       "153            3.465         0.03464                   0.22208  0.77370   \n",
       "154            3.340         0.03656                   0.28665  0.35386   \n",
       "155            3.006         0.05015                   0.66320  0.47489   \n",
       "156            2.905         0.08658                   0.01530  0.41587   \n",
       "157            2.839         0.06727                   0.20868  0.13995   \n",
       "\n",
       "     Health (Life Expectancy)  Freedom  Trust (Government Corruption)  \\\n",
       "0                     0.94143  0.66557                        0.41978   \n",
       "1                     0.94784  0.62877                        0.14145   \n",
       "2                     0.87464  0.64938                        0.48357   \n",
       "3                     0.88521  0.66973                        0.36503   \n",
       "4                     0.90563  0.63297                        0.32957   \n",
       "..                        ...      ...                            ...   \n",
       "153                   0.42864  0.59201                        0.55191   \n",
       "154                   0.31910  0.48450                        0.08010   \n",
       "155                   0.72193  0.15684                        0.18906   \n",
       "156                   0.22396  0.11850                        0.10062   \n",
       "157                   0.28443  0.36453                        0.10731   \n",
       "\n",
       "     Generosity  Dystopia Residual first_five_letters  \n",
       "0       0.29678            2.51738             Switze  \n",
       "1       0.43630            2.70201             Icelan  \n",
       "2       0.34139            2.49204             Denmar  \n",
       "3       0.34699            2.46531             Norway  \n",
       "4       0.45811            2.45176             Canada  \n",
       "..          ...                ...                ...  \n",
       "153     0.22628            0.67042             Rwanda  \n",
       "154     0.18260            1.63328              Benin  \n",
       "155     0.47179            0.32858              Syria  \n",
       "156     0.19727            1.83302             Burund  \n",
       "157     0.16681            1.56726               Togo  \n",
       "\n",
       "[158 rows x 13 columns]"
      ]
     },
     "execution_count": 47,
     "metadata": {},
     "output_type": "execute_result"
    }
   ],
   "source": [
    "# Q10-Use the github link below to read the data and create a dataframe. After creating the dataframe extract the first 6 letters of each country and store in the dataframe under a new column called first_five_letters.\n",
    "data=pd.read_csv('https://raw.githubusercontent.com/dsrscientist/DSData/master/happiness_score_dataset.csv')\n",
    "df=pd.DataFrame(data)\n",
    "logic10=r'^[a-zA-Z]{1,6}'\n",
    "df['first_five_letters']=df['Country'].apply(lambda x:''.join(re.findall(logic10, x)))\n",
    "df"
   ]
  },
  {
   "cell_type": "code",
   "execution_count": 53,
   "id": "8cd47d3e-e144-4087-b1a8-391c60041c58",
   "metadata": {},
   "outputs": [
    {
     "name": "stdout",
     "output_type": "stream",
     "text": [
      "['hello', 'my', 'name', 'issumit', 'kumar', 'i', 'am', 'pursuing', 'PG', 'programme', 'in', 'data', 'science', 'and', 'machine', 'learning', 'i', 'am', 'working', 'as', 'a', 'python', 'developer', 'at', 'Arctutrus', 'business_solution', 'private', 'ltd', 'from', '2013']\n"
     ]
    }
   ],
   "source": [
    "# Q11-Write a Python program to match a string that contains only upper and lowercase letters, numbers, and underscores.\n",
    "text11='hello my name --issumit @kumar. i am pursuing $PG programme in data science and machine learning.i am working as a python developer at Arctutrus business_solution private ltd *from 2013.'\n",
    "logic11=r'\\w+'\n",
    "result=re.findall(logic11,text11)\n",
    "print(result)"
   ]
  },
  {
   "cell_type": "code",
   "execution_count": 59,
   "id": "e187cd30-b320-4295-8776-aa0cce1e08db",
   "metadata": {},
   "outputs": [
    {
     "name": "stdout",
     "output_type": "stream",
     "text": [
      "['1one', '2nd', '1question.']\n"
     ]
    }
   ],
   "source": [
    "# Q12-Write a Python program where a string will start with a specific number.\n",
    "text12='hello hi 1one this is 2nd phase of learning of practice question of @regular 1question.'\n",
    "logic12=r'\\b\\d\\S*'\n",
    "result=re.findall(logic12,text12)\n",
    "print(result)"
   ]
  },
  {
   "cell_type": "code",
   "execution_count": 68,
   "id": "f9a5250d-58a1-400c-b4a1-8c98144b86be",
   "metadata": {},
   "outputs": [
    {
     "name": "stdout",
     "output_type": "stream",
     "text": [
      "192.168.1.3\n"
     ]
    }
   ],
   "source": [
    "# Q13-Write a Python program to remove leading zeros from an IP address\n",
    "ip='192.168.001.003'\n",
    "logic13=r'\\b0+'\n",
    "print(re.sub(logic13,'',ip))"
   ]
  },
  {
   "cell_type": "code",
   "execution_count": 143,
   "id": "0b30fba8-0302-4f5c-bc79-8bd84ec702d3",
   "metadata": {},
   "outputs": [
    {
     "name": "stdout",
     "output_type": "stream",
     "text": [
      "August 15th 1947, January 26th 1950, "
     ]
    }
   ],
   "source": [
    "# Q14-Write a regular expression in python to match a date string in the form of Month name followed by day number and year stored in a text file.\n",
    "with open('date_regular.txt') as file:\n",
    "    text=file.read()\n",
    "    logic14 = r'\\b(January|February|March|April|May|June|July|August|September|October|November|December)\\s+\\d{1,2}(st|nd|rd|th)\\s+\\d{4}\\b'\n",
    "    reg=re.compile(logic14)\n",
    "    result=reg.finditer(text)\n",
    "    for i in result:\n",
    "        print(i.group(),end=', ')\n",
    "    \n"
   ]
  },
  {
   "cell_type": "code",
   "execution_count": 154,
   "id": "af519a21-251e-4765-83a6-cb7b4256b9b6",
   "metadata": {},
   "outputs": [
    {
     "name": "stdout",
     "output_type": "stream",
     "text": [
      "['fox', 'dog', 'dog']\n"
     ]
    }
   ],
   "source": [
    "# Q15-Write a Python program to search some literals strings in a string.\n",
    "text15= 'The quick brown fox jumps dog over the lazy dog.'\n",
    "logic15=r'\\bfox|\\bhorse|\\bdog'\n",
    "print(re.findall(logic15,text15))"
   ]
  },
  {
   "cell_type": "code",
   "execution_count": 159,
   "id": "b5d5657d-4982-41bc-befb-49665ba4fcf2",
   "metadata": {},
   "outputs": [
    {
     "name": "stdout",
     "output_type": "stream",
     "text": [
      "fox\n",
      "start location from 16 and end location 19\n"
     ]
    }
   ],
   "source": [
    "# Q16-Write a Python program to search a literals string in a string and also find the location within the original string where the pattern occurs\n",
    "text16='The quick brown fox jumps over the lazy dog.'\n",
    "logic16=r'\\bfox'\n",
    "result=re.search(logic16,text16)\n",
    "print(result.group())\n",
    "print(f'start location from {result.start()} and end location {result.end()}')"
   ]
  },
  {
   "cell_type": "code",
   "execution_count": 165,
   "id": "f843098a-326b-489c-b8ef-1e538a8c0806",
   "metadata": {},
   "outputs": [
    {
     "name": "stdout",
     "output_type": "stream",
     "text": [
      "exercises\n"
     ]
    }
   ],
   "source": [
    "# Q17-Write a Python program to find the substrings within a string.\n",
    "text17='Python exercises, PHP exercises, C# exercises'\n",
    "logic17=r'\\bexercises'\n",
    "result=re.search(logic17,text17)\n",
    "print(result.group())"
   ]
  },
  {
   "cell_type": "code",
   "execution_count": 12,
   "id": "734daa60-a282-4dff-baff-5c2b130854a8",
   "metadata": {},
   "outputs": [
    {
     "name": "stdout",
     "output_type": "stream",
     "text": [
      "exercises at position 7\n",
      "exercises at position 22\n",
      "exercises at position 36\n",
      "total occurances: 3\n"
     ]
    }
   ],
   "source": [
    "# Q18-Write a Python program to find the occurrence and position of the substrings within a string.\n",
    "import re\n",
    "count=0\n",
    "text18 = 'Python exercises, PHP exercises, C# exercises'\n",
    "logic18 = 'exercises'\n",
    "matches = re.finditer(logic18, text18)\n",
    "for match in (matches):\n",
    "    print(f'{match.group()} at position {match.start()}')\n",
    "    count=count+1\n",
    "print('total occurances:',count)\n"
   ]
  },
  {
   "cell_type": "code",
   "execution_count": 17,
   "id": "3c0b90e2-776e-4d05-9ffd-06245b03d6ed",
   "metadata": {},
   "outputs": [
    {
     "name": "stdout",
     "output_type": "stream",
     "text": [
      "we are celebrate a independence day on 15-08-1947.\n"
     ]
    }
   ],
   "source": [
    "# Q19- Write a Python program to convert a date of yyyy-mm-dd format to dd-mm-yyyy format.\n",
    "logic19= r'(\\d{4})-(\\d{2})-(\\d{2})'\n",
    "text19='we are celebrate a independence day on 1947-08-15.'\n",
    "result=re.sub(logic19,r'\\3-\\2-\\1',text19)\n",
    "print(result)\n"
   ]
  },
  {
   "cell_type": "code",
   "execution_count": 20,
   "id": "ce7ec183-bb68-4e22-a782-ba43a81f5a11",
   "metadata": {},
   "outputs": [
    {
     "name": "stdout",
     "output_type": "stream",
     "text": [
      "['01.12', '145.8', '3.01', '27.25', '0.25']\n"
     ]
    }
   ],
   "source": [
    "# Q20-Create a function in python to find all decimal numbers with a precision of 1 or 2 in a string. The use of the re.compile() method is mandatory.\n",
    "def find_precision(text):\n",
    "    logic20 = re.compile(r'\\b\\d+\\.\\d{1,2}\\b')\n",
    "    result = logic20.findall(text)    \n",
    "    return result\n",
    "    \n",
    "text20 = \"01.12 0132.123 2.31875 145.8 3.01 27.25 0.25\"\n",
    "\n",
    "print(find_precision(text20))"
   ]
  },
  {
   "cell_type": "code",
   "execution_count": 28,
   "id": "24bbb0cc-49b5-4b03-8ae6-4068fb439dee",
   "metadata": {},
   "outputs": [
    {
     "name": "stdout",
     "output_type": "stream",
     "text": [
      "Number: 12 at position start with 15 and end with 16\n",
      "Number: 2 at position start with 30 and end with 30\n",
      "Number: 11 at position start with 45 and end with 46\n",
      "Number: 320 at position start with 77 and end with 79\n"
     ]
    }
   ],
   "source": [
    "# Q21-Write a Python program to separate and print the numbers and their position of a given string.\n",
    "text21 = 'hello i have a 12 bananas and 2 kg apple and 11 kg oranges. i have to pay rs 320.'\n",
    "logic21 = r'\\b\\d+\\b'\n",
    "matches = re.finditer(logic21, text21)\n",
    "for match in matches:\n",
    "    print(f'Number: {match.group()} at position start with {match.start()} and end with {match.end()-1}')"
   ]
  },
  {
   "cell_type": "code",
   "execution_count": 33,
   "id": "93c7ba2c-b1ae-4b5b-b99c-a0d26ab3c0c0",
   "metadata": {},
   "outputs": [
    {
     "name": "stdout",
     "output_type": "stream",
     "text": [
      "950\n"
     ]
    }
   ],
   "source": [
    "# Q22-Write a regular expression in python program to extract maximum/largest numeric value from a string.\n",
    "text22= 'My marks in each semester are: 947, 896, 926, 524, 734, 950, 642'\n",
    "logic22=r'\\b\\d+'\n",
    "result=re.findall(logic22,text22)\n",
    "print(max(result))"
   ]
  },
  {
   "cell_type": "code",
   "execution_count": 37,
   "id": "9ccf0467-ee8b-4660-8232-45b32c139054",
   "metadata": {},
   "outputs": [
    {
     "name": "stdout",
     "output_type": "stream",
     "text": [
      " Regular Expression Is An Important Topic In Python\n"
     ]
    }
   ],
   "source": [
    "# Q23- Create a function in python to insert spaces between words starting with capital letters.\n",
    "def insert_capital(text):\n",
    "    logic23=r'(?=[A-Z])'\n",
    "    result=re.sub(logic23,' ',text)\n",
    "    return result\n",
    "sam_text23='RegularExpressionIsAnImportantTopicInPython'\n",
    "print(insert_capital(sam_text23))"
   ]
  },
  {
   "cell_type": "code",
   "execution_count": 44,
   "id": "69c5ce53-108d-4eb4-a1f4-e8d27ed305b0",
   "metadata": {},
   "outputs": [
    {
     "name": "stdout",
     "output_type": "stream",
     "text": [
      "['Inside', 'Air', 'Scent']\n"
     ]
    }
   ],
   "source": [
    "# Q24-Python regex to find sequences of one upper case letter followed by lower case letters\n",
    "logic24=r'[A-Z][a-z]+'\n",
    "text24='Inside the Air was heavy with the Scent of aged paper and ink.'\n",
    "result=re.findall(logic24,text24)\n",
    "print(result)"
   ]
  },
  {
   "cell_type": "code",
   "execution_count": 51,
   "id": "f80b44fb-d96b-4211-aa31-083be7044208",
   "metadata": {},
   "outputs": [
    {
     "name": "stdout",
     "output_type": "stream",
     "text": [
      "Hello hello world\n"
     ]
    }
   ],
   "source": [
    "# Q25-Write a Python program to remove continuous duplicate words from Sentence using Regular Expression.\n",
    "text25=\"Hello hello world world\"\n",
    "logic25=r'\\b(\\w+)(?:\\W+\\1\\b)+' \n",
    "result=re.sub(logic25, r'\\1', text25)\n",
    "print(result)"
   ]
  },
  {
   "cell_type": "code",
   "execution_count": 62,
   "id": "8cde5de3-e9b8-4fd6-83e2-d4bee914f0bc",
   "metadata": {},
   "outputs": [
    {
     "name": "stdout",
     "output_type": "stream",
     "text": [
      "String is accepted here.\n"
     ]
    }
   ],
   "source": [
    "# Q26- Write a python program using RegEx to accept string ending with alphanumeric character.\n",
    "logic26=r'^[a-zA-Z0-9]+$'\n",
    "text26='hellokncifthoiflf12aA2'\n",
    "result=re.match(logic26,text26)\n",
    "if result:\n",
    "    print('String is accepted here.')\n",
    "else:\n",
    "    print('String not ending with alphaumeric character')"
   ]
  },
  {
   "cell_type": "code",
   "execution_count": 76,
   "id": "5ccec8e3-fed2-4ecc-87f5-9f98a9acd463",
   "metadata": {},
   "outputs": [
    {
     "name": "stdout",
     "output_type": "stream",
     "text": [
      "['#Doltiwal', '#xyzabc', '#Demonetization']\n"
     ]
    }
   ],
   "source": [
    "# Q27-Write a python program using RegEx to extract the hashtags.\n",
    "text27=\"\"\"RT @kapil_kausik: #Doltiwal I mean #xyzabc is \"hurt\" by #Demonetization as the same has rendered USELESS <ed><U+00A0><U+00BD><ed><U+00B1><U+0089> \"acquired funds\" No wo\"\"\"\n",
    "logic27= r'#\\w+'\n",
    "result=re.findall(logic27,text27)\n",
    "print(result)"
   ]
  },
  {
   "cell_type": "code",
   "execution_count": 97,
   "id": "198c8d0c-90fc-41b6-bcf5-212e99e43407",
   "metadata": {},
   "outputs": [
    {
     "name": "stdout",
     "output_type": "stream",
     "text": [
      "@Jags123456 Bharat band on 28??<ed><ed>Those who  are protesting #demonetization  are all different party leaders\n"
     ]
    }
   ],
   "source": [
    "# Q28-Write a python program using RegEx to remove <U+..> like symbols\n",
    "text28=\"@Jags123456 Bharat band on 28??<ed><U+00A0><U+00BD><ed><U+00B8><U+0082>Those who  are protesting #demonetization  are all different party leaders\"\n",
    "logic28=r'<U\\+\\w+>'\n",
    "result=re.sub(logic28,'',text28)\n",
    "print(result)"
   ]
  },
  {
   "cell_type": "code",
   "execution_count": 112,
   "id": "0e60f35b-0c1f-4c51-b0b6-dcb1409e5905",
   "metadata": {},
   "outputs": [
    {
     "name": "stdout",
     "output_type": "stream",
     "text": [
      "12-09-1992\n",
      "15-12-1999\n"
     ]
    }
   ],
   "source": [
    "# Q29-Write a python program to extract dates from the text stored in the text file.\n",
    "with open('date.txt','r') as file:\n",
    "    text29=file.read()    \n",
    "    logic29=re.compile('(\\d{2})-(\\d{2})-(\\d{4})')\n",
    "    result=logic29.finditer(text29)\n",
    "    for i in result:\n",
    "        print(i.group())"
   ]
  },
  {
   "cell_type": "code",
   "execution_count": 117,
   "id": "d60ca810-139d-498a-96a6-d61f23aed5da",
   "metadata": {},
   "outputs": [
    {
     "name": "stdout",
     "output_type": "stream",
     "text": [
      " following example creates  ArrayList  a capacity   elements. 4 elements   added   ArrayList   ArrayList  trimmed accordingly.\n"
     ]
    }
   ],
   "source": [
    "# Q30- Create a function in python to remove all words from a string of length between 2 and 4.\n",
    "def rem_two(text):\n",
    "    logic30=re.compile(r'\\b\\w{2,4}\\b')\n",
    "    result=logic30.sub('',text)\n",
    "    return result    \n",
    "text30=\"The following example creates an ArrayList with a capacity of 50 elements. 4 elements are then added to the ArrayList and the ArrayList is trimmed accordingly.\"\n",
    "print(rem_two(text30))"
   ]
  }
 ],
 "metadata": {
  "kernelspec": {
   "display_name": "Python 3 (ipykernel)",
   "language": "python",
   "name": "python3"
  },
  "language_info": {
   "codemirror_mode": {
    "name": "ipython",
    "version": 3
   },
   "file_extension": ".py",
   "mimetype": "text/x-python",
   "name": "python",
   "nbconvert_exporter": "python",
   "pygments_lexer": "ipython3",
   "version": "3.11.7"
  }
 },
 "nbformat": 4,
 "nbformat_minor": 5
}

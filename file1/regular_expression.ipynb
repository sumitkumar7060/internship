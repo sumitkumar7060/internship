{
 "cells": [
  {
   "cell_type": "code",
   "execution_count": 1,
   "id": "2b02f8a9-6262-41cd-b3c3-4913ca4dfac7",
   "metadata": {},
   "outputs": [],
   "source": [
    "# Question 1- Write a RegEx pattern in python program to check that a string contains only a certain set of characters (in this case a-z, A-Z and 0-9).\n",
    "# Question 2- Write a RegEx pattern that matches a string that has an a followed by zero or more b's.\n",
    "# Question 3-  Write a RegEx pattern that matches a string that has an a followed by one or more b's.\n",
    "# Question 4- Write a RegEx pattern that matches a string that has an a followed by zero or one 'b'.\n",
    "# Question 5- Write a RegEx pattern in python program that matches a string that has an a followed by three 'b'.\n",
    "# Question 6- Write a RegEx pattern in python program that matches a string that has an a followed by two to three 'b'.\n",
    "# Question 7- Write a Python program that matches a string that has an 'a' followed by anything, ending in 'b'.\n",
    "# Question 8- Write a RegEx pattern in python program that matches a word at the beginning of a string.\n",
    "# Question 9- Write a RegEx pattern in python program that matches a word at the end of a string.\n",
    "# Question 10- Write a RegEx pattern in python program to find all words that are 4 digits long in a string.\n",
    "# Sample text- '01 0132 231875 1458 301 2725.'\n",
    "# Expected output- ['0132', '1458', '2725']\n"
   ]
  },
  {
   "cell_type": "code",
   "execution_count": 8,
   "id": "e7115683-5f48-4661-b198-7f974442d719",
   "metadata": {},
   "outputs": [
    {
     "name": "stdout",
     "output_type": "stream",
     "text": [
      "['hello', 'i', 'am', 'dlkdececm04f4f54f', 'dmddd', 'ss_dede3', 'AKDBNJdd', '233', 'or', 'dmsdks', 'kdkd']\n"
     ]
    }
   ],
   "source": [
    "# Answer of  question 1\n",
    "import re\n",
    "string='hello i am dlkdececm04f4f54f @dmddd ss_dede3 AKDBNJdd. 233 or dmsdks $kdkd.'\n",
    "pattern=r\"\\w+\"\n",
    "result=re.findall(pattern,string)\n",
    "print(result)"
   ]
  },
  {
   "cell_type": "code",
   "execution_count": 12,
   "id": "abef54d2-1327-4e8d-b0f1-23a6c5e9773e",
   "metadata": {},
   "outputs": [
    {
     "name": "stdout",
     "output_type": "stream",
     "text": [
      "['ab', 'a', 'abb', 'a', 'ab', 'a', 'a', 'a', 'abbbb']\n"
     ]
    }
   ],
   "source": [
    "# Answer of question 2\n",
    "pattern = r'ab*'\n",
    "string1=\"hello ab and abb this is bbbs ssefckkfc aab kdcicoffca bba snsa abbbb\"\n",
    "result=re.findall(pattern,string1)\n",
    "print(result)"
   ]
  },
  {
   "cell_type": "code",
   "execution_count": 13,
   "id": "41326811-92a6-42b8-924f-ae59a920eec4",
   "metadata": {},
   "outputs": [
    {
     "name": "stdout",
     "output_type": "stream",
     "text": [
      "['ab', 'abb', 'ab', 'abbbb']\n"
     ]
    }
   ],
   "source": [
    "# Answer of question 3\n",
    "string2=\"hello ab and abb this is bbbs ssefckkfc aab kdcicoffca bba snsa abbbb\"\n",
    "pattern=r'abb*'\n",
    "print(re.findall(pattern,string2))"
   ]
  },
  {
   "cell_type": "code",
   "execution_count": 18,
   "id": "e53c2e6d-9429-4178-ad9f-0e9bb12b0e7e",
   "metadata": {},
   "outputs": [
    {
     "name": "stdout",
     "output_type": "stream",
     "text": [
      "['ab', 'a', 'ab', 'a', 'ab', 'a', 'a', 'a', 'ab']\n"
     ]
    }
   ],
   "source": [
    "# Answer of question 4\n",
    "string3=\"hello ab and abb this is bbbs ssefckkfc aab kdcicoffca bba snsa abbbb\"\n",
    "pattern = r'ab?'\n",
    "print(re.findall(pattern,string3))"
   ]
  },
  {
   "cell_type": "code",
   "execution_count": 19,
   "id": "d121d85b-17c3-4d9c-a977-4f72790a8a30",
   "metadata": {},
   "outputs": [
    {
     "name": "stdout",
     "output_type": "stream",
     "text": [
      "['abbb']\n"
     ]
    }
   ],
   "source": [
    "# Answer of question 5\n",
    "string3=\"hello ab and abb this is bbbs ssefckkfc aab kdcicoffca bba snsa abbbb\"\n",
    "pattern=r'abbb'\n",
    "print(re.findall(pattern,string3))"
   ]
  },
  {
   "cell_type": "code",
   "execution_count": 20,
   "id": "0ae0372e-c0e3-4bfd-a27e-b2850eb352e0",
   "metadata": {},
   "outputs": [
    {
     "name": "stdout",
     "output_type": "stream",
     "text": [
      "['abb', 'abbb']\n"
     ]
    }
   ],
   "source": [
    "# Answer of question 6\n",
    "string4=\"hello ab and abb this is bbbs ssefckkfc aab kdcicoffca bba snsa abbbb\"\n",
    "pattern=r'abbb?'\n",
    "print(re.findall(pattern,string4))"
   ]
  },
  {
   "cell_type": "code",
   "execution_count": 35,
   "id": "1ce50ffc-c9af-4205-b260-6584ccc59d0b",
   "metadata": {},
   "outputs": [
    {
     "name": "stdout",
     "output_type": "stream",
     "text": [
      "['ab', 'abb', 'aab', 'abbbb']\n"
     ]
    }
   ],
   "source": [
    "# Answer of question 7\n",
    "string5=\"hello ab and abb this is bbbs ssefckkfc aab kdcicoffca ahelele bba snsa abbbb\"\n",
    "# pattern = r'a.*?b'\n",
    "pattern = r'a[^ ]*b'\n",
    "print(re.findall(pattern,string5))\n"
   ]
  },
  {
   "cell_type": "code",
   "execution_count": 50,
   "id": "a3f13e53-78d3-4c7c-9483-737e58e025a6",
   "metadata": {},
   "outputs": [
    {
     "name": "stdout",
     "output_type": "stream",
     "text": [
      "['hello']\n",
      "<re.Match object; span=(0, 5), match='hello'>\n"
     ]
    }
   ],
   "source": [
    "# Answer of question 8\n",
    "string6=\"hello ab and abb this is bbbs ssefckkfc aab kdcicoffca bba snsa abbbb\"\n",
    "pattern = r'^[a-zA-Z]+'\n",
    "# print(re.findall(pattern,string6))\n",
    "print(re.search(pattern,string6))"
   ]
  },
  {
   "cell_type": "code",
   "execution_count": 64,
   "id": "be594973-83e8-4c44-a0bd-d7da4ee617fb",
   "metadata": {},
   "outputs": [
    {
     "name": "stdout",
     "output_type": "stream",
     "text": [
      "['abbb']\n",
      "<re.Match object; span=(64, 68), match='abbb'>\n"
     ]
    }
   ],
   "source": [
    "# Answer of question 9\n",
    "string7=\"hello ab and abb this is bbbs ssefckkfc aab kdcicoffca bba snsa abbb\"\n",
    "pattern = r'[a-zA-Z]+$'\n",
    "print(re.findall(pattern,string7))\n",
    "print(re.search(pattern,string7))"
   ]
  },
  {
   "cell_type": "code",
   "execution_count": 69,
   "id": "93f0110a-3a2a-4fa5-9de2-e7a6c3fd74e5",
   "metadata": {},
   "outputs": [
    {
     "name": "stdout",
     "output_type": "stream",
     "text": [
      "['1234', '2345', '2024', '3456']\n"
     ]
    }
   ],
   "source": [
    "# Answer of question 10\n",
    "string8=\"hello i have a 133 mangoes and 1234 apples or 234567 banana.and i hava a 2024 rs.so i am buying a 12 pen and 3456 pencil in stationarty.\"\n",
    "pattern = r'\\d{4}'\n",
    "print(re.findall(pattern,string8))"
   ]
  },
  {
   "cell_type": "code",
   "execution_count": null,
   "id": "46ee7f8d-f505-4ff2-a4b1-a42e86e860ac",
   "metadata": {},
   "outputs": [],
   "source": []
  }
 ],
 "metadata": {
  "kernelspec": {
   "display_name": "Python 3 (ipykernel)",
   "language": "python",
   "name": "python3"
  },
  "language_info": {
   "codemirror_mode": {
    "name": "ipython",
    "version": 3
   },
   "file_extension": ".py",
   "mimetype": "text/x-python",
   "name": "python",
   "nbconvert_exporter": "python",
   "pygments_lexer": "ipython3",
   "version": "3.11.7"
  }
 },
 "nbformat": 4,
 "nbformat_minor": 5
}
